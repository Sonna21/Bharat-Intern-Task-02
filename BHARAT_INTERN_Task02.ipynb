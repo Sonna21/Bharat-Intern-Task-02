{
  "nbformat": 4,
  "nbformat_minor": 0,
  "metadata": {
    "colab": {
      "provenance": []
    },
    "kernelspec": {
      "name": "python3",
      "display_name": "Python 3"
    },
    "language_info": {
      "name": "python"
    }
  },
  "cells": [
    {
      "cell_type": "code",
      "source": [
        "import tensorflow as tf\n",
        "import keras\n",
        "from keras.models import Sequential\n",
        "from keras.layers import Dense"
      ],
      "metadata": {
        "id": "tmgdV8XfHM91"
      },
      "execution_count": 17,
      "outputs": []
    },
    {
      "cell_type": "code",
      "source": [
        "import numpy as np\n",
        "import pandas as pd\n"
      ],
      "metadata": {
        "id": "haslNQTPHTqb"
      },
      "execution_count": 18,
      "outputs": []
    },
    {
      "cell_type": "code",
      "source": [
        "df=pd.read_csv('/content/WineQT.csv')\n",
        "df.head()"
      ],
      "metadata": {
        "colab": {
          "base_uri": "https://localhost:8080/",
          "height": 206
        },
        "id": "-IU-EMI2HbSK",
        "outputId": "c2313e0c-2e57-41f6-9835-5792da3ec6ba"
      },
      "execution_count": 19,
      "outputs": [
        {
          "output_type": "execute_result",
          "data": {
            "text/plain": [
              "   fixed acidity  volatile acidity  citric acid  residual sugar  chlorides  \\\n",
              "0            7.4              0.70         0.00             1.9      0.076   \n",
              "1            7.8              0.88         0.00             2.6      0.098   \n",
              "2            7.8              0.76         0.04             2.3      0.092   \n",
              "3           11.2              0.28         0.56             1.9      0.075   \n",
              "4            7.4              0.70         0.00             1.9      0.076   \n",
              "\n",
              "   free sulfur dioxide  total sulfur dioxide  density    pH  sulphates  \\\n",
              "0                 11.0                  34.0   0.9978  3.51       0.56   \n",
              "1                 25.0                  67.0   0.9968  3.20       0.68   \n",
              "2                 15.0                  54.0   0.9970  3.26       0.65   \n",
              "3                 17.0                  60.0   0.9980  3.16       0.58   \n",
              "4                 11.0                  34.0   0.9978  3.51       0.56   \n",
              "\n",
              "   alcohol  quality  Id  \n",
              "0      9.4        5   0  \n",
              "1      9.8        5   1  \n",
              "2      9.8        5   2  \n",
              "3      9.8        6   3  \n",
              "4      9.4        5   4  "
            ],
            "text/html": [
              "\n",
              "  <div id=\"df-55362e9f-83b1-4e8b-809c-38e658ffc3e4\">\n",
              "    <div class=\"colab-df-container\">\n",
              "      <div>\n",
              "<style scoped>\n",
              "    .dataframe tbody tr th:only-of-type {\n",
              "        vertical-align: middle;\n",
              "    }\n",
              "\n",
              "    .dataframe tbody tr th {\n",
              "        vertical-align: top;\n",
              "    }\n",
              "\n",
              "    .dataframe thead th {\n",
              "        text-align: right;\n",
              "    }\n",
              "</style>\n",
              "<table border=\"1\" class=\"dataframe\">\n",
              "  <thead>\n",
              "    <tr style=\"text-align: right;\">\n",
              "      <th></th>\n",
              "      <th>fixed acidity</th>\n",
              "      <th>volatile acidity</th>\n",
              "      <th>citric acid</th>\n",
              "      <th>residual sugar</th>\n",
              "      <th>chlorides</th>\n",
              "      <th>free sulfur dioxide</th>\n",
              "      <th>total sulfur dioxide</th>\n",
              "      <th>density</th>\n",
              "      <th>pH</th>\n",
              "      <th>sulphates</th>\n",
              "      <th>alcohol</th>\n",
              "      <th>quality</th>\n",
              "      <th>Id</th>\n",
              "    </tr>\n",
              "  </thead>\n",
              "  <tbody>\n",
              "    <tr>\n",
              "      <th>0</th>\n",
              "      <td>7.4</td>\n",
              "      <td>0.70</td>\n",
              "      <td>0.00</td>\n",
              "      <td>1.9</td>\n",
              "      <td>0.076</td>\n",
              "      <td>11.0</td>\n",
              "      <td>34.0</td>\n",
              "      <td>0.9978</td>\n",
              "      <td>3.51</td>\n",
              "      <td>0.56</td>\n",
              "      <td>9.4</td>\n",
              "      <td>5</td>\n",
              "      <td>0</td>\n",
              "    </tr>\n",
              "    <tr>\n",
              "      <th>1</th>\n",
              "      <td>7.8</td>\n",
              "      <td>0.88</td>\n",
              "      <td>0.00</td>\n",
              "      <td>2.6</td>\n",
              "      <td>0.098</td>\n",
              "      <td>25.0</td>\n",
              "      <td>67.0</td>\n",
              "      <td>0.9968</td>\n",
              "      <td>3.20</td>\n",
              "      <td>0.68</td>\n",
              "      <td>9.8</td>\n",
              "      <td>5</td>\n",
              "      <td>1</td>\n",
              "    </tr>\n",
              "    <tr>\n",
              "      <th>2</th>\n",
              "      <td>7.8</td>\n",
              "      <td>0.76</td>\n",
              "      <td>0.04</td>\n",
              "      <td>2.3</td>\n",
              "      <td>0.092</td>\n",
              "      <td>15.0</td>\n",
              "      <td>54.0</td>\n",
              "      <td>0.9970</td>\n",
              "      <td>3.26</td>\n",
              "      <td>0.65</td>\n",
              "      <td>9.8</td>\n",
              "      <td>5</td>\n",
              "      <td>2</td>\n",
              "    </tr>\n",
              "    <tr>\n",
              "      <th>3</th>\n",
              "      <td>11.2</td>\n",
              "      <td>0.28</td>\n",
              "      <td>0.56</td>\n",
              "      <td>1.9</td>\n",
              "      <td>0.075</td>\n",
              "      <td>17.0</td>\n",
              "      <td>60.0</td>\n",
              "      <td>0.9980</td>\n",
              "      <td>3.16</td>\n",
              "      <td>0.58</td>\n",
              "      <td>9.8</td>\n",
              "      <td>6</td>\n",
              "      <td>3</td>\n",
              "    </tr>\n",
              "    <tr>\n",
              "      <th>4</th>\n",
              "      <td>7.4</td>\n",
              "      <td>0.70</td>\n",
              "      <td>0.00</td>\n",
              "      <td>1.9</td>\n",
              "      <td>0.076</td>\n",
              "      <td>11.0</td>\n",
              "      <td>34.0</td>\n",
              "      <td>0.9978</td>\n",
              "      <td>3.51</td>\n",
              "      <td>0.56</td>\n",
              "      <td>9.4</td>\n",
              "      <td>5</td>\n",
              "      <td>4</td>\n",
              "    </tr>\n",
              "  </tbody>\n",
              "</table>\n",
              "</div>\n",
              "      <button class=\"colab-df-convert\" onclick=\"convertToInteractive('df-55362e9f-83b1-4e8b-809c-38e658ffc3e4')\"\n",
              "              title=\"Convert this dataframe to an interactive table.\"\n",
              "              style=\"display:none;\">\n",
              "        \n",
              "  <svg xmlns=\"http://www.w3.org/2000/svg\" height=\"24px\"viewBox=\"0 0 24 24\"\n",
              "       width=\"24px\">\n",
              "    <path d=\"M0 0h24v24H0V0z\" fill=\"none\"/>\n",
              "    <path d=\"M18.56 5.44l.94 2.06.94-2.06 2.06-.94-2.06-.94-.94-2.06-.94 2.06-2.06.94zm-11 1L8.5 8.5l.94-2.06 2.06-.94-2.06-.94L8.5 2.5l-.94 2.06-2.06.94zm10 10l.94 2.06.94-2.06 2.06-.94-2.06-.94-.94-2.06-.94 2.06-2.06.94z\"/><path d=\"M17.41 7.96l-1.37-1.37c-.4-.4-.92-.59-1.43-.59-.52 0-1.04.2-1.43.59L10.3 9.45l-7.72 7.72c-.78.78-.78 2.05 0 2.83L4 21.41c.39.39.9.59 1.41.59.51 0 1.02-.2 1.41-.59l7.78-7.78 2.81-2.81c.8-.78.8-2.07 0-2.86zM5.41 20L4 18.59l7.72-7.72 1.47 1.35L5.41 20z\"/>\n",
              "  </svg>\n",
              "      </button>\n",
              "      \n",
              "  <style>\n",
              "    .colab-df-container {\n",
              "      display:flex;\n",
              "      flex-wrap:wrap;\n",
              "      gap: 12px;\n",
              "    }\n",
              "\n",
              "    .colab-df-convert {\n",
              "      background-color: #E8F0FE;\n",
              "      border: none;\n",
              "      border-radius: 50%;\n",
              "      cursor: pointer;\n",
              "      display: none;\n",
              "      fill: #1967D2;\n",
              "      height: 32px;\n",
              "      padding: 0 0 0 0;\n",
              "      width: 32px;\n",
              "    }\n",
              "\n",
              "    .colab-df-convert:hover {\n",
              "      background-color: #E2EBFA;\n",
              "      box-shadow: 0px 1px 2px rgba(60, 64, 67, 0.3), 0px 1px 3px 1px rgba(60, 64, 67, 0.15);\n",
              "      fill: #174EA6;\n",
              "    }\n",
              "\n",
              "    [theme=dark] .colab-df-convert {\n",
              "      background-color: #3B4455;\n",
              "      fill: #D2E3FC;\n",
              "    }\n",
              "\n",
              "    [theme=dark] .colab-df-convert:hover {\n",
              "      background-color: #434B5C;\n",
              "      box-shadow: 0px 1px 3px 1px rgba(0, 0, 0, 0.15);\n",
              "      filter: drop-shadow(0px 1px 2px rgba(0, 0, 0, 0.3));\n",
              "      fill: #FFFFFF;\n",
              "    }\n",
              "  </style>\n",
              "\n",
              "      <script>\n",
              "        const buttonEl =\n",
              "          document.querySelector('#df-55362e9f-83b1-4e8b-809c-38e658ffc3e4 button.colab-df-convert');\n",
              "        buttonEl.style.display =\n",
              "          google.colab.kernel.accessAllowed ? 'block' : 'none';\n",
              "\n",
              "        async function convertToInteractive(key) {\n",
              "          const element = document.querySelector('#df-55362e9f-83b1-4e8b-809c-38e658ffc3e4');\n",
              "          const dataTable =\n",
              "            await google.colab.kernel.invokeFunction('convertToInteractive',\n",
              "                                                     [key], {});\n",
              "          if (!dataTable) return;\n",
              "\n",
              "          const docLinkHtml = 'Like what you see? Visit the ' +\n",
              "            '<a target=\"_blank\" href=https://colab.research.google.com/notebooks/data_table.ipynb>data table notebook</a>'\n",
              "            + ' to learn more about interactive tables.';\n",
              "          element.innerHTML = '';\n",
              "          dataTable['output_type'] = 'display_data';\n",
              "          await google.colab.output.renderOutput(dataTable, element);\n",
              "          const docLink = document.createElement('div');\n",
              "          docLink.innerHTML = docLinkHtml;\n",
              "          element.appendChild(docLink);\n",
              "        }\n",
              "      </script>\n",
              "    </div>\n",
              "  </div>\n",
              "  "
            ]
          },
          "metadata": {},
          "execution_count": 19
        }
      ]
    },
    {
      "cell_type": "code",
      "source": [
        "df['quality'].unique()"
      ],
      "metadata": {
        "colab": {
          "base_uri": "https://localhost:8080/"
        },
        "id": "UW_7Es9sHism",
        "outputId": "6388f74f-e9d9-4920-d539-1941d7a70363"
      },
      "execution_count": 20,
      "outputs": [
        {
          "output_type": "execute_result",
          "data": {
            "text/plain": [
              "array([5, 6, 7, 4, 8, 3])"
            ]
          },
          "metadata": {},
          "execution_count": 20
        }
      ]
    },
    {
      "cell_type": "code",
      "source": [
        "df.info()"
      ],
      "metadata": {
        "colab": {
          "base_uri": "https://localhost:8080/"
        },
        "id": "9JCOxlAvHlCm",
        "outputId": "d034828b-efeb-411e-e89c-3e8bf576ff99"
      },
      "execution_count": 21,
      "outputs": [
        {
          "output_type": "stream",
          "name": "stdout",
          "text": [
            "<class 'pandas.core.frame.DataFrame'>\n",
            "RangeIndex: 1143 entries, 0 to 1142\n",
            "Data columns (total 13 columns):\n",
            " #   Column                Non-Null Count  Dtype  \n",
            "---  ------                --------------  -----  \n",
            " 0   fixed acidity         1143 non-null   float64\n",
            " 1   volatile acidity      1143 non-null   float64\n",
            " 2   citric acid           1143 non-null   float64\n",
            " 3   residual sugar        1143 non-null   float64\n",
            " 4   chlorides             1143 non-null   float64\n",
            " 5   free sulfur dioxide   1143 non-null   float64\n",
            " 6   total sulfur dioxide  1143 non-null   float64\n",
            " 7   density               1143 non-null   float64\n",
            " 8   pH                    1143 non-null   float64\n",
            " 9   sulphates             1143 non-null   float64\n",
            " 10  alcohol               1143 non-null   float64\n",
            " 11  quality               1143 non-null   int64  \n",
            " 12  Id                    1143 non-null   int64  \n",
            "dtypes: float64(11), int64(2)\n",
            "memory usage: 116.2 KB\n"
          ]
        }
      ]
    },
    {
      "cell_type": "markdown",
      "source": [
        "Splitting into Training and Validation Data"
      ],
      "metadata": {
        "id": "EZ_xO2KRHsdP"
      }
    },
    {
      "cell_type": "code",
      "source": [
        "train_df=df.sample(frac=0.75,random_state=4)"
      ],
      "metadata": {
        "id": "kk5Y76QYH3FP"
      },
      "execution_count": 22,
      "outputs": []
    },
    {
      "cell_type": "code",
      "source": [
        "train_df.shape"
      ],
      "metadata": {
        "colab": {
          "base_uri": "https://localhost:8080/"
        },
        "id": "iEJ8vL3LH7lx",
        "outputId": "f2bc986e-36e4-4eed-9eb4-34964df84cfa"
      },
      "execution_count": 23,
      "outputs": [
        {
          "output_type": "execute_result",
          "data": {
            "text/plain": [
              "(857, 13)"
            ]
          },
          "metadata": {},
          "execution_count": 23
        }
      ]
    },
    {
      "cell_type": "code",
      "source": [
        "train_df.index"
      ],
      "metadata": {
        "colab": {
          "base_uri": "https://localhost:8080/"
        },
        "id": "7Q5rjwrfIBAo",
        "outputId": "00fcddb4-8fe9-4597-af09-13e7477cb786"
      },
      "execution_count": 24,
      "outputs": [
        {
          "output_type": "execute_result",
          "data": {
            "text/plain": [
              "Int64Index([ 667,  221,  265,  154,  517,  616,   98,  325,  963,  659,\n",
              "            ...\n",
              "              10, 1127,   21,  861,  637,  173,   38,  985,  757,  469],\n",
              "           dtype='int64', length=857)"
            ]
          },
          "metadata": {},
          "execution_count": 24
        }
      ]
    },
    {
      "cell_type": "code",
      "source": [
        "val_df=df.drop(train_df.index)"
      ],
      "metadata": {
        "id": "okuazMboIE12"
      },
      "execution_count": 25,
      "outputs": []
    },
    {
      "cell_type": "markdown",
      "source": [
        "Min-Max scaling"
      ],
      "metadata": {
        "id": "sZGzdSKZIJQw"
      }
    },
    {
      "cell_type": "code",
      "source": [
        "max_val = train_df.max(axis=0)\n",
        "min_val = train_df.min(axis=0)\n",
        "range = max_val-min_val\n",
        "train_df=(train_df-min_val)/range\n",
        "val_df=(val_df-min_val)/range"
      ],
      "metadata": {
        "id": "HqJwEyYnILy0"
      },
      "execution_count": 26,
      "outputs": []
    },
    {
      "cell_type": "code",
      "source": [
        "X_train=train_df.drop('quality',axis=1)\n",
        "X_val=val_df.drop('quality',axis=1)\n",
        "Y_train=train_df['quality']\n",
        "Y_val=val_df['quality']\n",
        "\n",
        "input_shape=[X_train.shape[1]]\n",
        "input_shape"
      ],
      "metadata": {
        "colab": {
          "base_uri": "https://localhost:8080/"
        },
        "id": "t1Ib3neDIUpF",
        "outputId": "a9bd5b6e-b404-4d09-d8e7-e1e9ab1273f2"
      },
      "execution_count": 27,
      "outputs": [
        {
          "output_type": "execute_result",
          "data": {
            "text/plain": [
              "[12]"
            ]
          },
          "metadata": {},
          "execution_count": 27
        }
      ]
    },
    {
      "cell_type": "code",
      "source": [
        "model=tf.keras.Sequential([tf.keras.layers.Dense(units=64, activation='relu',input_shape=input_shape),tf.keras.layers.Dense(units=32,activation='relu'),tf.keras.layers.Dense(units=1)])\n",
        "model.summary()"
      ],
      "metadata": {
        "colab": {
          "base_uri": "https://localhost:8080/"
        },
        "id": "3DCWvKzSIq75",
        "outputId": "c6982848-ea8c-4f72-ed4d-8e369232fe7f"
      },
      "execution_count": 29,
      "outputs": [
        {
          "output_type": "stream",
          "name": "stdout",
          "text": [
            "Model: \"sequential\"\n",
            "_________________________________________________________________\n",
            " Layer (type)                Output Shape              Param #   \n",
            "=================================================================\n",
            " dense (Dense)               (None, 64)                832       \n",
            "                                                                 \n",
            " dense_1 (Dense)             (None, 32)                2080      \n",
            "                                                                 \n",
            " dense_2 (Dense)             (None, 1)                 33        \n",
            "                                                                 \n",
            "=================================================================\n",
            "Total params: 2,945\n",
            "Trainable params: 2,945\n",
            "Non-trainable params: 0\n",
            "_________________________________________________________________\n"
          ]
        }
      ]
    },
    {
      "cell_type": "code",
      "source": [
        "model.compile(optimizer='adam', # or sgd can be used as optimizer\n",
        "             # MAE is good for\n",
        "             # numerical predictions\n",
        "             # cross entropy for classification\n",
        "             loss='mae')\n"
      ],
      "metadata": {
        "id": "tJkN_vXfJG4Y"
      },
      "execution_count": 30,
      "outputs": []
    },
    {
      "cell_type": "code",
      "source": [
        "losses = model.fit(X_train, Y_train,validation_data=(X_val, Y_val),\n",
        "                  batch_size=100,\n",
        "                  epochs=15,\n",
        "                  )"
      ],
      "metadata": {
        "colab": {
          "base_uri": "https://localhost:8080/"
        },
        "id": "hUW_IrkyJL5F",
        "outputId": "410f1919-179d-4d67-8681-77b8f1be569c"
      },
      "execution_count": 32,
      "outputs": [
        {
          "output_type": "stream",
          "name": "stdout",
          "text": [
            "Epoch 1/15\n",
            "9/9 [==============================] - 0s 22ms/step - loss: 0.1033 - val_loss: 0.1011\n",
            "Epoch 2/15\n",
            "9/9 [==============================] - 0s 9ms/step - loss: 0.1027 - val_loss: 0.1023\n",
            "Epoch 3/15\n",
            "9/9 [==============================] - 0s 9ms/step - loss: 0.1023 - val_loss: 0.1003\n",
            "Epoch 4/15\n",
            "9/9 [==============================] - 0s 9ms/step - loss: 0.1012 - val_loss: 0.0994\n",
            "Epoch 5/15\n",
            "9/9 [==============================] - 0s 9ms/step - loss: 0.1010 - val_loss: 0.0999\n",
            "Epoch 6/15\n",
            "9/9 [==============================] - 0s 8ms/step - loss: 0.1005 - val_loss: 0.0984\n",
            "Epoch 7/15\n",
            "9/9 [==============================] - 0s 10ms/step - loss: 0.1002 - val_loss: 0.0984\n",
            "Epoch 8/15\n",
            "9/9 [==============================] - 0s 8ms/step - loss: 0.0990 - val_loss: 0.0977\n",
            "Epoch 9/15\n",
            "9/9 [==============================] - 0s 8ms/step - loss: 0.0992 - val_loss: 0.0987\n",
            "Epoch 10/15\n",
            "9/9 [==============================] - 0s 9ms/step - loss: 0.0986 - val_loss: 0.0979\n",
            "Epoch 11/15\n",
            "9/9 [==============================] - 0s 10ms/step - loss: 0.0982 - val_loss: 0.0972\n",
            "Epoch 12/15\n",
            "9/9 [==============================] - 0s 10ms/step - loss: 0.0986 - val_loss: 0.0971\n",
            "Epoch 13/15\n",
            "9/9 [==============================] - 0s 9ms/step - loss: 0.0971 - val_loss: 0.0978\n",
            "Epoch 14/15\n",
            "9/9 [==============================] - 0s 8ms/step - loss: 0.0972 - val_loss: 0.0963\n",
            "Epoch 15/15\n",
            "9/9 [==============================] - 0s 11ms/step - loss: 0.0963 - val_loss: 0.0971\n"
          ]
        }
      ]
    },
    {
      "cell_type": "code",
      "source": [
        "type(X_train)"
      ],
      "metadata": {
        "colab": {
          "base_uri": "https://localhost:8080/"
        },
        "id": "vlQ_BAVBJbLl",
        "outputId": "3e2698fb-6819-4a6a-e863-17ecdbe927a2"
      },
      "execution_count": 33,
      "outputs": [
        {
          "output_type": "execute_result",
          "data": {
            "text/plain": [
              "pandas.core.frame.DataFrame"
            ]
          },
          "metadata": {},
          "execution_count": 33
        }
      ]
    },
    {
      "cell_type": "code",
      "source": [
        "X_val.iloc[121:124,:]"
      ],
      "metadata": {
        "colab": {
          "base_uri": "https://localhost:8080/",
          "height": 143
        },
        "id": "UY6MEUlmJg0L",
        "outputId": "2124fc1d-0f07-49d8-ef8e-ce4fd77d2537"
      },
      "execution_count": 34,
      "outputs": [
        {
          "output_type": "execute_result",
          "data": {
            "text/plain": [
              "     fixed acidity  volatile acidity  citric acid  residual sugar  chlorides  \\\n",
              "516       0.309735          0.410959         0.09        0.130137   0.120401   \n",
              "519       0.159292          0.510274         0.03        0.157534   0.098662   \n",
              "528       0.327434          0.438356         0.29        0.226027   0.105351   \n",
              "\n",
              "     free sulfur dioxide  total sulfur dioxide   density        pH  sulphates  \\\n",
              "516             0.253731              0.151943  0.685022  0.594828   0.233533   \n",
              "519             0.388060              0.183746  0.361968  0.750000   0.095808   \n",
              "528             0.164179              0.035336  0.472100  0.612069   0.209581   \n",
              "\n",
              "      alcohol        Id  \n",
              "516  0.415385  0.455116  \n",
              "519  0.661538  0.456999  \n",
              "528  0.476923  0.463905  "
            ],
            "text/html": [
              "\n",
              "  <div id=\"df-ad60cd55-db48-4781-b66a-c4c60b741cef\">\n",
              "    <div class=\"colab-df-container\">\n",
              "      <div>\n",
              "<style scoped>\n",
              "    .dataframe tbody tr th:only-of-type {\n",
              "        vertical-align: middle;\n",
              "    }\n",
              "\n",
              "    .dataframe tbody tr th {\n",
              "        vertical-align: top;\n",
              "    }\n",
              "\n",
              "    .dataframe thead th {\n",
              "        text-align: right;\n",
              "    }\n",
              "</style>\n",
              "<table border=\"1\" class=\"dataframe\">\n",
              "  <thead>\n",
              "    <tr style=\"text-align: right;\">\n",
              "      <th></th>\n",
              "      <th>fixed acidity</th>\n",
              "      <th>volatile acidity</th>\n",
              "      <th>citric acid</th>\n",
              "      <th>residual sugar</th>\n",
              "      <th>chlorides</th>\n",
              "      <th>free sulfur dioxide</th>\n",
              "      <th>total sulfur dioxide</th>\n",
              "      <th>density</th>\n",
              "      <th>pH</th>\n",
              "      <th>sulphates</th>\n",
              "      <th>alcohol</th>\n",
              "      <th>Id</th>\n",
              "    </tr>\n",
              "  </thead>\n",
              "  <tbody>\n",
              "    <tr>\n",
              "      <th>516</th>\n",
              "      <td>0.309735</td>\n",
              "      <td>0.410959</td>\n",
              "      <td>0.09</td>\n",
              "      <td>0.130137</td>\n",
              "      <td>0.120401</td>\n",
              "      <td>0.253731</td>\n",
              "      <td>0.151943</td>\n",
              "      <td>0.685022</td>\n",
              "      <td>0.594828</td>\n",
              "      <td>0.233533</td>\n",
              "      <td>0.415385</td>\n",
              "      <td>0.455116</td>\n",
              "    </tr>\n",
              "    <tr>\n",
              "      <th>519</th>\n",
              "      <td>0.159292</td>\n",
              "      <td>0.510274</td>\n",
              "      <td>0.03</td>\n",
              "      <td>0.157534</td>\n",
              "      <td>0.098662</td>\n",
              "      <td>0.388060</td>\n",
              "      <td>0.183746</td>\n",
              "      <td>0.361968</td>\n",
              "      <td>0.750000</td>\n",
              "      <td>0.095808</td>\n",
              "      <td>0.661538</td>\n",
              "      <td>0.456999</td>\n",
              "    </tr>\n",
              "    <tr>\n",
              "      <th>528</th>\n",
              "      <td>0.327434</td>\n",
              "      <td>0.438356</td>\n",
              "      <td>0.29</td>\n",
              "      <td>0.226027</td>\n",
              "      <td>0.105351</td>\n",
              "      <td>0.164179</td>\n",
              "      <td>0.035336</td>\n",
              "      <td>0.472100</td>\n",
              "      <td>0.612069</td>\n",
              "      <td>0.209581</td>\n",
              "      <td>0.476923</td>\n",
              "      <td>0.463905</td>\n",
              "    </tr>\n",
              "  </tbody>\n",
              "</table>\n",
              "</div>\n",
              "      <button class=\"colab-df-convert\" onclick=\"convertToInteractive('df-ad60cd55-db48-4781-b66a-c4c60b741cef')\"\n",
              "              title=\"Convert this dataframe to an interactive table.\"\n",
              "              style=\"display:none;\">\n",
              "        \n",
              "  <svg xmlns=\"http://www.w3.org/2000/svg\" height=\"24px\"viewBox=\"0 0 24 24\"\n",
              "       width=\"24px\">\n",
              "    <path d=\"M0 0h24v24H0V0z\" fill=\"none\"/>\n",
              "    <path d=\"M18.56 5.44l.94 2.06.94-2.06 2.06-.94-2.06-.94-.94-2.06-.94 2.06-2.06.94zm-11 1L8.5 8.5l.94-2.06 2.06-.94-2.06-.94L8.5 2.5l-.94 2.06-2.06.94zm10 10l.94 2.06.94-2.06 2.06-.94-2.06-.94-.94-2.06-.94 2.06-2.06.94z\"/><path d=\"M17.41 7.96l-1.37-1.37c-.4-.4-.92-.59-1.43-.59-.52 0-1.04.2-1.43.59L10.3 9.45l-7.72 7.72c-.78.78-.78 2.05 0 2.83L4 21.41c.39.39.9.59 1.41.59.51 0 1.02-.2 1.41-.59l7.78-7.78 2.81-2.81c.8-.78.8-2.07 0-2.86zM5.41 20L4 18.59l7.72-7.72 1.47 1.35L5.41 20z\"/>\n",
              "  </svg>\n",
              "      </button>\n",
              "      \n",
              "  <style>\n",
              "    .colab-df-container {\n",
              "      display:flex;\n",
              "      flex-wrap:wrap;\n",
              "      gap: 12px;\n",
              "    }\n",
              "\n",
              "    .colab-df-convert {\n",
              "      background-color: #E8F0FE;\n",
              "      border: none;\n",
              "      border-radius: 50%;\n",
              "      cursor: pointer;\n",
              "      display: none;\n",
              "      fill: #1967D2;\n",
              "      height: 32px;\n",
              "      padding: 0 0 0 0;\n",
              "      width: 32px;\n",
              "    }\n",
              "\n",
              "    .colab-df-convert:hover {\n",
              "      background-color: #E2EBFA;\n",
              "      box-shadow: 0px 1px 2px rgba(60, 64, 67, 0.3), 0px 1px 3px 1px rgba(60, 64, 67, 0.15);\n",
              "      fill: #174EA6;\n",
              "    }\n",
              "\n",
              "    [theme=dark] .colab-df-convert {\n",
              "      background-color: #3B4455;\n",
              "      fill: #D2E3FC;\n",
              "    }\n",
              "\n",
              "    [theme=dark] .colab-df-convert:hover {\n",
              "      background-color: #434B5C;\n",
              "      box-shadow: 0px 1px 3px 1px rgba(0, 0, 0, 0.15);\n",
              "      filter: drop-shadow(0px 1px 2px rgba(0, 0, 0, 0.3));\n",
              "      fill: #FFFFFF;\n",
              "    }\n",
              "  </style>\n",
              "\n",
              "      <script>\n",
              "        const buttonEl =\n",
              "          document.querySelector('#df-ad60cd55-db48-4781-b66a-c4c60b741cef button.colab-df-convert');\n",
              "        buttonEl.style.display =\n",
              "          google.colab.kernel.accessAllowed ? 'block' : 'none';\n",
              "\n",
              "        async function convertToInteractive(key) {\n",
              "          const element = document.querySelector('#df-ad60cd55-db48-4781-b66a-c4c60b741cef');\n",
              "          const dataTable =\n",
              "            await google.colab.kernel.invokeFunction('convertToInteractive',\n",
              "                                                     [key], {});\n",
              "          if (!dataTable) return;\n",
              "\n",
              "          const docLinkHtml = 'Like what you see? Visit the ' +\n",
              "            '<a target=\"_blank\" href=https://colab.research.google.com/notebooks/data_table.ipynb>data table notebook</a>'\n",
              "            + ' to learn more about interactive tables.';\n",
              "          element.innerHTML = '';\n",
              "          dataTable['output_type'] = 'display_data';\n",
              "          await google.colab.output.renderOutput(dataTable, element);\n",
              "          const docLink = document.createElement('div');\n",
              "          docLink.innerHTML = docLinkHtml;\n",
              "          element.appendChild(docLink);\n",
              "        }\n",
              "      </script>\n",
              "    </div>\n",
              "  </div>\n",
              "  "
            ]
          },
          "metadata": {},
          "execution_count": 34
        }
      ]
    },
    {
      "cell_type": "code",
      "source": [
        "Y_val[121:124]"
      ],
      "metadata": {
        "colab": {
          "base_uri": "https://localhost:8080/"
        },
        "id": "uL4a2uQFJmq3",
        "outputId": "cadc5874-5401-4f51-b866-d29afa98424b"
      },
      "execution_count": 35,
      "outputs": [
        {
          "output_type": "execute_result",
          "data": {
            "text/plain": [
              "516    0.6\n",
              "519    0.6\n",
              "528    0.6\n",
              "Name: quality, dtype: float64"
            ]
          },
          "metadata": {},
          "execution_count": 35
        }
      ]
    },
    {
      "cell_type": "code",
      "source": [
        "test=X_val.iloc[120]\n",
        "\n",
        "test.shape\n",
        "\n",
        "new_test = pd.DataFrame(test.values.reshape(1, -1))"
      ],
      "metadata": {
        "id": "4mIPOIlpJrOY"
      },
      "execution_count": 37,
      "outputs": []
    },
    {
      "cell_type": "code",
      "source": [
        "model.predict(new_test)"
      ],
      "metadata": {
        "colab": {
          "base_uri": "https://localhost:8080/"
        },
        "id": "NT-k_RibJvje",
        "outputId": "bfe0a29a-5c9c-40d3-eedc-a5c649c63646"
      },
      "execution_count": 38,
      "outputs": [
        {
          "output_type": "stream",
          "name": "stdout",
          "text": [
            "1/1 [==============================] - 0s 347ms/step\n"
          ]
        },
        {
          "output_type": "execute_result",
          "data": {
            "text/plain": [
              "array([[0.52368397]], dtype=float32)"
            ]
          },
          "metadata": {},
          "execution_count": 38
        }
      ]
    },
    {
      "cell_type": "code",
      "source": [
        "Y_train.iloc[120]"
      ],
      "metadata": {
        "colab": {
          "base_uri": "https://localhost:8080/"
        },
        "id": "EqQDD-kwJ7C4",
        "outputId": "3ee9cbc6-6d85-41b1-9d20-1cabd8e1bc55"
      },
      "execution_count": 39,
      "outputs": [
        {
          "output_type": "execute_result",
          "data": {
            "text/plain": [
              "0.6"
            ]
          },
          "metadata": {},
          "execution_count": 39
        }
      ]
    },
    {
      "cell_type": "code",
      "source": [
        "X_val.iloc[200:210]"
      ],
      "metadata": {
        "colab": {
          "base_uri": "https://localhost:8080/",
          "height": 363
        },
        "id": "xvSis8ASJ8zx",
        "outputId": "7331a212-3098-4be4-a914-4ff6b092c4bb"
      },
      "execution_count": 40,
      "outputs": [
        {
          "output_type": "execute_result",
          "data": {
            "text/plain": [
              "     fixed acidity  volatile acidity  citric acid  residual sugar  chlorides  \\\n",
              "817       0.327434          0.328767         0.25        0.089041   0.177258   \n",
              "818       0.442478          0.205479         0.35        0.082192   0.118729   \n",
              "821       0.044248          0.267123         0.18        0.082192   0.050167   \n",
              "823       0.389381          0.455479         0.24        0.054795   0.110368   \n",
              "827       0.407080          0.164384         0.34        0.047945   0.083612   \n",
              "833       0.088496          0.544521         0.00        0.082192   0.048495   \n",
              "835       0.460177          0.184932         0.43        0.051370   0.093645   \n",
              "842       0.230088          0.089041         0.37        0.109589   0.085284   \n",
              "843       0.212389          0.428082         0.12        0.061644   0.170569   \n",
              "844       0.141593          0.212329         0.22        0.061644   0.110368   \n",
              "\n",
              "     free sulfur dioxide  total sulfur dioxide   density        pH  sulphates  \\\n",
              "817             0.119403              0.113074  0.447137  0.353448   0.119760   \n",
              "818             0.238806              0.113074  0.451542  0.422414   0.197605   \n",
              "821             0.223881              0.335689  0.171072  0.620690   0.323353   \n",
              "823             0.134328              0.053004  0.502937  0.474138   0.203593   \n",
              "827             0.059701              0.021201  0.484581  0.396552   0.203593   \n",
              "833             0.238806              0.254417  0.248899  0.810345   0.239521   \n",
              "835             0.059701              0.017668  0.345815  0.387931   0.077844   \n",
              "842             0.149254              0.123675  0.317181  0.672414   0.281437   \n",
              "843             0.208955              0.204947  0.426579  0.413793   0.155689   \n",
              "844             0.298507              0.176678  0.459618  0.672414   0.161677   \n",
              "\n",
              "      alcohol        Id  \n",
              "817  0.215385  0.722536  \n",
              "818  0.415385  0.723164  \n",
              "821  0.692308  0.725675  \n",
              "823  0.246154  0.730069  \n",
              "827  0.323077  0.733836  \n",
              "833  0.461538  0.738858  \n",
              "835  0.461538  0.740741  \n",
              "842  0.615385  0.747646  \n",
              "843  0.169231  0.748901  \n",
              "844  0.169231  0.749529  "
            ],
            "text/html": [
              "\n",
              "  <div id=\"df-d751a1db-2d1f-4fbd-ac28-7ad2336e0a92\">\n",
              "    <div class=\"colab-df-container\">\n",
              "      <div>\n",
              "<style scoped>\n",
              "    .dataframe tbody tr th:only-of-type {\n",
              "        vertical-align: middle;\n",
              "    }\n",
              "\n",
              "    .dataframe tbody tr th {\n",
              "        vertical-align: top;\n",
              "    }\n",
              "\n",
              "    .dataframe thead th {\n",
              "        text-align: right;\n",
              "    }\n",
              "</style>\n",
              "<table border=\"1\" class=\"dataframe\">\n",
              "  <thead>\n",
              "    <tr style=\"text-align: right;\">\n",
              "      <th></th>\n",
              "      <th>fixed acidity</th>\n",
              "      <th>volatile acidity</th>\n",
              "      <th>citric acid</th>\n",
              "      <th>residual sugar</th>\n",
              "      <th>chlorides</th>\n",
              "      <th>free sulfur dioxide</th>\n",
              "      <th>total sulfur dioxide</th>\n",
              "      <th>density</th>\n",
              "      <th>pH</th>\n",
              "      <th>sulphates</th>\n",
              "      <th>alcohol</th>\n",
              "      <th>Id</th>\n",
              "    </tr>\n",
              "  </thead>\n",
              "  <tbody>\n",
              "    <tr>\n",
              "      <th>817</th>\n",
              "      <td>0.327434</td>\n",
              "      <td>0.328767</td>\n",
              "      <td>0.25</td>\n",
              "      <td>0.089041</td>\n",
              "      <td>0.177258</td>\n",
              "      <td>0.119403</td>\n",
              "      <td>0.113074</td>\n",
              "      <td>0.447137</td>\n",
              "      <td>0.353448</td>\n",
              "      <td>0.119760</td>\n",
              "      <td>0.215385</td>\n",
              "      <td>0.722536</td>\n",
              "    </tr>\n",
              "    <tr>\n",
              "      <th>818</th>\n",
              "      <td>0.442478</td>\n",
              "      <td>0.205479</td>\n",
              "      <td>0.35</td>\n",
              "      <td>0.082192</td>\n",
              "      <td>0.118729</td>\n",
              "      <td>0.238806</td>\n",
              "      <td>0.113074</td>\n",
              "      <td>0.451542</td>\n",
              "      <td>0.422414</td>\n",
              "      <td>0.197605</td>\n",
              "      <td>0.415385</td>\n",
              "      <td>0.723164</td>\n",
              "    </tr>\n",
              "    <tr>\n",
              "      <th>821</th>\n",
              "      <td>0.044248</td>\n",
              "      <td>0.267123</td>\n",
              "      <td>0.18</td>\n",
              "      <td>0.082192</td>\n",
              "      <td>0.050167</td>\n",
              "      <td>0.223881</td>\n",
              "      <td>0.335689</td>\n",
              "      <td>0.171072</td>\n",
              "      <td>0.620690</td>\n",
              "      <td>0.323353</td>\n",
              "      <td>0.692308</td>\n",
              "      <td>0.725675</td>\n",
              "    </tr>\n",
              "    <tr>\n",
              "      <th>823</th>\n",
              "      <td>0.389381</td>\n",
              "      <td>0.455479</td>\n",
              "      <td>0.24</td>\n",
              "      <td>0.054795</td>\n",
              "      <td>0.110368</td>\n",
              "      <td>0.134328</td>\n",
              "      <td>0.053004</td>\n",
              "      <td>0.502937</td>\n",
              "      <td>0.474138</td>\n",
              "      <td>0.203593</td>\n",
              "      <td>0.246154</td>\n",
              "      <td>0.730069</td>\n",
              "    </tr>\n",
              "    <tr>\n",
              "      <th>827</th>\n",
              "      <td>0.407080</td>\n",
              "      <td>0.164384</td>\n",
              "      <td>0.34</td>\n",
              "      <td>0.047945</td>\n",
              "      <td>0.083612</td>\n",
              "      <td>0.059701</td>\n",
              "      <td>0.021201</td>\n",
              "      <td>0.484581</td>\n",
              "      <td>0.396552</td>\n",
              "      <td>0.203593</td>\n",
              "      <td>0.323077</td>\n",
              "      <td>0.733836</td>\n",
              "    </tr>\n",
              "    <tr>\n",
              "      <th>833</th>\n",
              "      <td>0.088496</td>\n",
              "      <td>0.544521</td>\n",
              "      <td>0.00</td>\n",
              "      <td>0.082192</td>\n",
              "      <td>0.048495</td>\n",
              "      <td>0.238806</td>\n",
              "      <td>0.254417</td>\n",
              "      <td>0.248899</td>\n",
              "      <td>0.810345</td>\n",
              "      <td>0.239521</td>\n",
              "      <td>0.461538</td>\n",
              "      <td>0.738858</td>\n",
              "    </tr>\n",
              "    <tr>\n",
              "      <th>835</th>\n",
              "      <td>0.460177</td>\n",
              "      <td>0.184932</td>\n",
              "      <td>0.43</td>\n",
              "      <td>0.051370</td>\n",
              "      <td>0.093645</td>\n",
              "      <td>0.059701</td>\n",
              "      <td>0.017668</td>\n",
              "      <td>0.345815</td>\n",
              "      <td>0.387931</td>\n",
              "      <td>0.077844</td>\n",
              "      <td>0.461538</td>\n",
              "      <td>0.740741</td>\n",
              "    </tr>\n",
              "    <tr>\n",
              "      <th>842</th>\n",
              "      <td>0.230088</td>\n",
              "      <td>0.089041</td>\n",
              "      <td>0.37</td>\n",
              "      <td>0.109589</td>\n",
              "      <td>0.085284</td>\n",
              "      <td>0.149254</td>\n",
              "      <td>0.123675</td>\n",
              "      <td>0.317181</td>\n",
              "      <td>0.672414</td>\n",
              "      <td>0.281437</td>\n",
              "      <td>0.615385</td>\n",
              "      <td>0.747646</td>\n",
              "    </tr>\n",
              "    <tr>\n",
              "      <th>843</th>\n",
              "      <td>0.212389</td>\n",
              "      <td>0.428082</td>\n",
              "      <td>0.12</td>\n",
              "      <td>0.061644</td>\n",
              "      <td>0.170569</td>\n",
              "      <td>0.208955</td>\n",
              "      <td>0.204947</td>\n",
              "      <td>0.426579</td>\n",
              "      <td>0.413793</td>\n",
              "      <td>0.155689</td>\n",
              "      <td>0.169231</td>\n",
              "      <td>0.748901</td>\n",
              "    </tr>\n",
              "    <tr>\n",
              "      <th>844</th>\n",
              "      <td>0.141593</td>\n",
              "      <td>0.212329</td>\n",
              "      <td>0.22</td>\n",
              "      <td>0.061644</td>\n",
              "      <td>0.110368</td>\n",
              "      <td>0.298507</td>\n",
              "      <td>0.176678</td>\n",
              "      <td>0.459618</td>\n",
              "      <td>0.672414</td>\n",
              "      <td>0.161677</td>\n",
              "      <td>0.169231</td>\n",
              "      <td>0.749529</td>\n",
              "    </tr>\n",
              "  </tbody>\n",
              "</table>\n",
              "</div>\n",
              "      <button class=\"colab-df-convert\" onclick=\"convertToInteractive('df-d751a1db-2d1f-4fbd-ac28-7ad2336e0a92')\"\n",
              "              title=\"Convert this dataframe to an interactive table.\"\n",
              "              style=\"display:none;\">\n",
              "        \n",
              "  <svg xmlns=\"http://www.w3.org/2000/svg\" height=\"24px\"viewBox=\"0 0 24 24\"\n",
              "       width=\"24px\">\n",
              "    <path d=\"M0 0h24v24H0V0z\" fill=\"none\"/>\n",
              "    <path d=\"M18.56 5.44l.94 2.06.94-2.06 2.06-.94-2.06-.94-.94-2.06-.94 2.06-2.06.94zm-11 1L8.5 8.5l.94-2.06 2.06-.94-2.06-.94L8.5 2.5l-.94 2.06-2.06.94zm10 10l.94 2.06.94-2.06 2.06-.94-2.06-.94-.94-2.06-.94 2.06-2.06.94z\"/><path d=\"M17.41 7.96l-1.37-1.37c-.4-.4-.92-.59-1.43-.59-.52 0-1.04.2-1.43.59L10.3 9.45l-7.72 7.72c-.78.78-.78 2.05 0 2.83L4 21.41c.39.39.9.59 1.41.59.51 0 1.02-.2 1.41-.59l7.78-7.78 2.81-2.81c.8-.78.8-2.07 0-2.86zM5.41 20L4 18.59l7.72-7.72 1.47 1.35L5.41 20z\"/>\n",
              "  </svg>\n",
              "      </button>\n",
              "      \n",
              "  <style>\n",
              "    .colab-df-container {\n",
              "      display:flex;\n",
              "      flex-wrap:wrap;\n",
              "      gap: 12px;\n",
              "    }\n",
              "\n",
              "    .colab-df-convert {\n",
              "      background-color: #E8F0FE;\n",
              "      border: none;\n",
              "      border-radius: 50%;\n",
              "      cursor: pointer;\n",
              "      display: none;\n",
              "      fill: #1967D2;\n",
              "      height: 32px;\n",
              "      padding: 0 0 0 0;\n",
              "      width: 32px;\n",
              "    }\n",
              "\n",
              "    .colab-df-convert:hover {\n",
              "      background-color: #E2EBFA;\n",
              "      box-shadow: 0px 1px 2px rgba(60, 64, 67, 0.3), 0px 1px 3px 1px rgba(60, 64, 67, 0.15);\n",
              "      fill: #174EA6;\n",
              "    }\n",
              "\n",
              "    [theme=dark] .colab-df-convert {\n",
              "      background-color: #3B4455;\n",
              "      fill: #D2E3FC;\n",
              "    }\n",
              "\n",
              "    [theme=dark] .colab-df-convert:hover {\n",
              "      background-color: #434B5C;\n",
              "      box-shadow: 0px 1px 3px 1px rgba(0, 0, 0, 0.15);\n",
              "      filter: drop-shadow(0px 1px 2px rgba(0, 0, 0, 0.3));\n",
              "      fill: #FFFFFF;\n",
              "    }\n",
              "  </style>\n",
              "\n",
              "      <script>\n",
              "        const buttonEl =\n",
              "          document.querySelector('#df-d751a1db-2d1f-4fbd-ac28-7ad2336e0a92 button.colab-df-convert');\n",
              "        buttonEl.style.display =\n",
              "          google.colab.kernel.accessAllowed ? 'block' : 'none';\n",
              "\n",
              "        async function convertToInteractive(key) {\n",
              "          const element = document.querySelector('#df-d751a1db-2d1f-4fbd-ac28-7ad2336e0a92');\n",
              "          const dataTable =\n",
              "            await google.colab.kernel.invokeFunction('convertToInteractive',\n",
              "                                                     [key], {});\n",
              "          if (!dataTable) return;\n",
              "\n",
              "          const docLinkHtml = 'Like what you see? Visit the ' +\n",
              "            '<a target=\"_blank\" href=https://colab.research.google.com/notebooks/data_table.ipynb>data table notebook</a>'\n",
              "            + ' to learn more about interactive tables.';\n",
              "          element.innerHTML = '';\n",
              "          dataTable['output_type'] = 'display_data';\n",
              "          await google.colab.output.renderOutput(dataTable, element);\n",
              "          const docLink = document.createElement('div');\n",
              "          docLink.innerHTML = docLinkHtml;\n",
              "          element.appendChild(docLink);\n",
              "        }\n",
              "      </script>\n",
              "    </div>\n",
              "  </div>\n",
              "  "
            ]
          },
          "metadata": {},
          "execution_count": 40
        }
      ]
    },
    {
      "cell_type": "code",
      "source": [
        "Y_val.iloc[200:210]"
      ],
      "metadata": {
        "colab": {
          "base_uri": "https://localhost:8080/"
        },
        "id": "kks7ioHkKDNe",
        "outputId": "35816ef2-4af2-4d4b-c088-2655e278a452"
      },
      "execution_count": 41,
      "outputs": [
        {
          "output_type": "execute_result",
          "data": {
            "text/plain": [
              "817    0.4\n",
              "818    0.6\n",
              "821    0.8\n",
              "823    0.4\n",
              "827    0.6\n",
              "833    0.4\n",
              "835    0.4\n",
              "842    0.8\n",
              "843    0.6\n",
              "844    0.6\n",
              "Name: quality, dtype: float64"
            ]
          },
          "metadata": {},
          "execution_count": 41
        }
      ]
    },
    {
      "cell_type": "code",
      "source": [
        "preds=model.predict(X_val.iloc[200:210,:])"
      ],
      "metadata": {
        "colab": {
          "base_uri": "https://localhost:8080/"
        },
        "id": "-4IMlRU-KT0i",
        "outputId": "9cd90727-6924-4132-dc0b-6507e3d5dd13"
      },
      "execution_count": 42,
      "outputs": [
        {
          "output_type": "stream",
          "name": "stdout",
          "text": [
            "1/1 [==============================] - 0s 23ms/step\n"
          ]
        }
      ]
    },
    {
      "cell_type": "code",
      "source": [
        "arr_rounded = np.round(preds, decimals=1)"
      ],
      "metadata": {
        "id": "vM4AALlnKYIs"
      },
      "execution_count": 43,
      "outputs": []
    },
    {
      "cell_type": "code",
      "source": [
        "arr_rounded"
      ],
      "metadata": {
        "colab": {
          "base_uri": "https://localhost:8080/"
        },
        "id": "JVbAliqQKZ10",
        "outputId": "88bb6272-2f3d-48b3-94da-908082eee828"
      },
      "execution_count": 44,
      "outputs": [
        {
          "output_type": "execute_result",
          "data": {
            "text/plain": [
              "array([[0.4],\n",
              "       [0.6],\n",
              "       [0.7],\n",
              "       [0.5],\n",
              "       [0.6],\n",
              "       [0.6],\n",
              "       [0.6],\n",
              "       [0.7],\n",
              "       [0.4],\n",
              "       [0.4]], dtype=float32)"
            ]
          },
          "metadata": {},
          "execution_count": 44
        }
      ]
    },
    {
      "cell_type": "code",
      "source": [
        "loss_df=pd.DataFrame(losses.history)\n",
        "\n",
        "loss_df"
      ],
      "metadata": {
        "colab": {
          "base_uri": "https://localhost:8080/",
          "height": 519
        },
        "id": "YjarWE20KgQD",
        "outputId": "4c1d646a-7e0f-420d-a94d-22019700b2d7"
      },
      "execution_count": 45,
      "outputs": [
        {
          "output_type": "execute_result",
          "data": {
            "text/plain": [
              "        loss  val_loss\n",
              "0   0.103341  0.101086\n",
              "1   0.102686  0.102283\n",
              "2   0.102321  0.100290\n",
              "3   0.101226  0.099352\n",
              "4   0.100997  0.099881\n",
              "5   0.100474  0.098383\n",
              "6   0.100166  0.098416\n",
              "7   0.098963  0.097726\n",
              "8   0.099222  0.098655\n",
              "9   0.098599  0.097862\n",
              "10  0.098177  0.097215\n",
              "11  0.098557  0.097059\n",
              "12  0.097087  0.097761\n",
              "13  0.097151  0.096346\n",
              "14  0.096317  0.097122"
            ],
            "text/html": [
              "\n",
              "  <div id=\"df-525e5e11-9a4b-4f55-b0a9-efa15a8056ee\">\n",
              "    <div class=\"colab-df-container\">\n",
              "      <div>\n",
              "<style scoped>\n",
              "    .dataframe tbody tr th:only-of-type {\n",
              "        vertical-align: middle;\n",
              "    }\n",
              "\n",
              "    .dataframe tbody tr th {\n",
              "        vertical-align: top;\n",
              "    }\n",
              "\n",
              "    .dataframe thead th {\n",
              "        text-align: right;\n",
              "    }\n",
              "</style>\n",
              "<table border=\"1\" class=\"dataframe\">\n",
              "  <thead>\n",
              "    <tr style=\"text-align: right;\">\n",
              "      <th></th>\n",
              "      <th>loss</th>\n",
              "      <th>val_loss</th>\n",
              "    </tr>\n",
              "  </thead>\n",
              "  <tbody>\n",
              "    <tr>\n",
              "      <th>0</th>\n",
              "      <td>0.103341</td>\n",
              "      <td>0.101086</td>\n",
              "    </tr>\n",
              "    <tr>\n",
              "      <th>1</th>\n",
              "      <td>0.102686</td>\n",
              "      <td>0.102283</td>\n",
              "    </tr>\n",
              "    <tr>\n",
              "      <th>2</th>\n",
              "      <td>0.102321</td>\n",
              "      <td>0.100290</td>\n",
              "    </tr>\n",
              "    <tr>\n",
              "      <th>3</th>\n",
              "      <td>0.101226</td>\n",
              "      <td>0.099352</td>\n",
              "    </tr>\n",
              "    <tr>\n",
              "      <th>4</th>\n",
              "      <td>0.100997</td>\n",
              "      <td>0.099881</td>\n",
              "    </tr>\n",
              "    <tr>\n",
              "      <th>5</th>\n",
              "      <td>0.100474</td>\n",
              "      <td>0.098383</td>\n",
              "    </tr>\n",
              "    <tr>\n",
              "      <th>6</th>\n",
              "      <td>0.100166</td>\n",
              "      <td>0.098416</td>\n",
              "    </tr>\n",
              "    <tr>\n",
              "      <th>7</th>\n",
              "      <td>0.098963</td>\n",
              "      <td>0.097726</td>\n",
              "    </tr>\n",
              "    <tr>\n",
              "      <th>8</th>\n",
              "      <td>0.099222</td>\n",
              "      <td>0.098655</td>\n",
              "    </tr>\n",
              "    <tr>\n",
              "      <th>9</th>\n",
              "      <td>0.098599</td>\n",
              "      <td>0.097862</td>\n",
              "    </tr>\n",
              "    <tr>\n",
              "      <th>10</th>\n",
              "      <td>0.098177</td>\n",
              "      <td>0.097215</td>\n",
              "    </tr>\n",
              "    <tr>\n",
              "      <th>11</th>\n",
              "      <td>0.098557</td>\n",
              "      <td>0.097059</td>\n",
              "    </tr>\n",
              "    <tr>\n",
              "      <th>12</th>\n",
              "      <td>0.097087</td>\n",
              "      <td>0.097761</td>\n",
              "    </tr>\n",
              "    <tr>\n",
              "      <th>13</th>\n",
              "      <td>0.097151</td>\n",
              "      <td>0.096346</td>\n",
              "    </tr>\n",
              "    <tr>\n",
              "      <th>14</th>\n",
              "      <td>0.096317</td>\n",
              "      <td>0.097122</td>\n",
              "    </tr>\n",
              "  </tbody>\n",
              "</table>\n",
              "</div>\n",
              "      <button class=\"colab-df-convert\" onclick=\"convertToInteractive('df-525e5e11-9a4b-4f55-b0a9-efa15a8056ee')\"\n",
              "              title=\"Convert this dataframe to an interactive table.\"\n",
              "              style=\"display:none;\">\n",
              "        \n",
              "  <svg xmlns=\"http://www.w3.org/2000/svg\" height=\"24px\"viewBox=\"0 0 24 24\"\n",
              "       width=\"24px\">\n",
              "    <path d=\"M0 0h24v24H0V0z\" fill=\"none\"/>\n",
              "    <path d=\"M18.56 5.44l.94 2.06.94-2.06 2.06-.94-2.06-.94-.94-2.06-.94 2.06-2.06.94zm-11 1L8.5 8.5l.94-2.06 2.06-.94-2.06-.94L8.5 2.5l-.94 2.06-2.06.94zm10 10l.94 2.06.94-2.06 2.06-.94-2.06-.94-.94-2.06-.94 2.06-2.06.94z\"/><path d=\"M17.41 7.96l-1.37-1.37c-.4-.4-.92-.59-1.43-.59-.52 0-1.04.2-1.43.59L10.3 9.45l-7.72 7.72c-.78.78-.78 2.05 0 2.83L4 21.41c.39.39.9.59 1.41.59.51 0 1.02-.2 1.41-.59l7.78-7.78 2.81-2.81c.8-.78.8-2.07 0-2.86zM5.41 20L4 18.59l7.72-7.72 1.47 1.35L5.41 20z\"/>\n",
              "  </svg>\n",
              "      </button>\n",
              "      \n",
              "  <style>\n",
              "    .colab-df-container {\n",
              "      display:flex;\n",
              "      flex-wrap:wrap;\n",
              "      gap: 12px;\n",
              "    }\n",
              "\n",
              "    .colab-df-convert {\n",
              "      background-color: #E8F0FE;\n",
              "      border: none;\n",
              "      border-radius: 50%;\n",
              "      cursor: pointer;\n",
              "      display: none;\n",
              "      fill: #1967D2;\n",
              "      height: 32px;\n",
              "      padding: 0 0 0 0;\n",
              "      width: 32px;\n",
              "    }\n",
              "\n",
              "    .colab-df-convert:hover {\n",
              "      background-color: #E2EBFA;\n",
              "      box-shadow: 0px 1px 2px rgba(60, 64, 67, 0.3), 0px 1px 3px 1px rgba(60, 64, 67, 0.15);\n",
              "      fill: #174EA6;\n",
              "    }\n",
              "\n",
              "    [theme=dark] .colab-df-convert {\n",
              "      background-color: #3B4455;\n",
              "      fill: #D2E3FC;\n",
              "    }\n",
              "\n",
              "    [theme=dark] .colab-df-convert:hover {\n",
              "      background-color: #434B5C;\n",
              "      box-shadow: 0px 1px 3px 1px rgba(0, 0, 0, 0.15);\n",
              "      filter: drop-shadow(0px 1px 2px rgba(0, 0, 0, 0.3));\n",
              "      fill: #FFFFFF;\n",
              "    }\n",
              "  </style>\n",
              "\n",
              "      <script>\n",
              "        const buttonEl =\n",
              "          document.querySelector('#df-525e5e11-9a4b-4f55-b0a9-efa15a8056ee button.colab-df-convert');\n",
              "        buttonEl.style.display =\n",
              "          google.colab.kernel.accessAllowed ? 'block' : 'none';\n",
              "\n",
              "        async function convertToInteractive(key) {\n",
              "          const element = document.querySelector('#df-525e5e11-9a4b-4f55-b0a9-efa15a8056ee');\n",
              "          const dataTable =\n",
              "            await google.colab.kernel.invokeFunction('convertToInteractive',\n",
              "                                                     [key], {});\n",
              "          if (!dataTable) return;\n",
              "\n",
              "          const docLinkHtml = 'Like what you see? Visit the ' +\n",
              "            '<a target=\"_blank\" href=https://colab.research.google.com/notebooks/data_table.ipynb>data table notebook</a>'\n",
              "            + ' to learn more about interactive tables.';\n",
              "          element.innerHTML = '';\n",
              "          dataTable['output_type'] = 'display_data';\n",
              "          await google.colab.output.renderOutput(dataTable, element);\n",
              "          const docLink = document.createElement('div');\n",
              "          docLink.innerHTML = docLinkHtml;\n",
              "          element.appendChild(docLink);\n",
              "        }\n",
              "      </script>\n",
              "    </div>\n",
              "  </div>\n",
              "  "
            ]
          },
          "metadata": {},
          "execution_count": 45
        }
      ]
    },
    {
      "cell_type": "markdown",
      "source": [
        "Let's check evaluation metrics for the small no. of prediction we created"
      ],
      "metadata": {
        "id": "tU3sGypgKnwZ"
      }
    },
    {
      "cell_type": "code",
      "source": [
        "import numpy as np\n",
        "from sklearn.metrics import mean_absolute_error, mean_squared_error, r2_score\n",
        "\n",
        "pred = arr_rounded\n",
        "actual = Y_val.iloc[200:210]\n",
        "\n",
        "mae = mean_absolute_error(actual, pred)\n",
        "print(\"MAE:\", mae)\n",
        "\n",
        "\n",
        "mse = mean_squared_error(actual, pred)\n",
        "print(\"MSE:\", mse)\n",
        "\n",
        "\n",
        "rmse = np.sqrt(mse)\n",
        "print(\"RMSE:\", rmse)\n",
        "r2 = r2_score(actual, pred)\n",
        "print(\"R^2 Score:\", r2)"
      ],
      "metadata": {
        "colab": {
          "base_uri": "https://localhost:8080/"
        },
        "id": "pSDqX5YRK0Oh",
        "outputId": "74760da1-59a6-43a5-be84-4008f5b04d7d"
      },
      "execution_count": 46,
      "outputs": [
        {
          "output_type": "stream",
          "name": "stdout",
          "text": [
            "MAE: 0.1100000113248825\n",
            "MSE: 0.0190000019073489\n",
            "RMSE: 0.13784049443958368\n",
            "R^2 Score: 0.15178562913620985\n"
          ]
        }
      ]
    },
    {
      "cell_type": "markdown",
      "source": [
        "Evaluating the model on the whole dataset"
      ],
      "metadata": {
        "id": "WDFnjDngLBkj"
      }
    },
    {
      "cell_type": "code",
      "source": [
        "preds=model.predict(X_val)"
      ],
      "metadata": {
        "colab": {
          "base_uri": "https://localhost:8080/"
        },
        "id": "p-bKCoQULXPJ",
        "outputId": "99d26bf2-c57d-4c65-daa5-5b7db39d5704"
      },
      "execution_count": 48,
      "outputs": [
        {
          "output_type": "stream",
          "name": "stdout",
          "text": [
            "9/9 [==============================] - 0s 2ms/step\n"
          ]
        }
      ]
    },
    {
      "cell_type": "code",
      "source": [
        "arr_rounded = np.round(preds, decimals=1)"
      ],
      "metadata": {
        "id": "nUJ3StTQLgca"
      },
      "execution_count": 49,
      "outputs": []
    },
    {
      "cell_type": "code",
      "source": [
        "pred = arr_rounded\n",
        "actual = Y_val\n",
        "\n",
        "mae = mean_absolute_error(actual, pred)\n",
        "print(\"MAE:\", mae)\n",
        "\n",
        "\n",
        "mse = mean_squared_error(actual, pred)\n",
        "print(\"MSE:\", mse)\n",
        "\n",
        "rmse = np.sqrt(mse)\n",
        "print(\"RMSE:\", rmse)\n",
        "\n",
        "\n",
        "r2 = r2_score(actual, pred)\n",
        "print(\"R^2 Score:\", r2)"
      ],
      "metadata": {
        "colab": {
          "base_uri": "https://localhost:8080/"
        },
        "id": "yXysYV8_Lol5",
        "outputId": "e81a0e68-3e8b-42b1-ab79-1fd573be414d"
      },
      "execution_count": 50,
      "outputs": [
        {
          "output_type": "stream",
          "name": "stdout",
          "text": [
            "MAE: 0.09265734663793256\n",
            "MSE: 0.01688811146296005\n",
            "RMSE: 0.12995426681321415\n",
            "R^2 Score: 0.2605823973748632\n"
          ]
        }
      ]
    }
  ]
}